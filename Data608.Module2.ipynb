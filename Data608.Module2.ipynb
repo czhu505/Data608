{
 "cells": [
  {
   "cell_type": "code",
   "execution_count": 116,
   "metadata": {},
   "outputs": [],
   "source": [
    "import datashader as ds\n",
    "import datashader.transfer_functions as tf\n",
    "import datashader.glyphs\n",
    "from datashader import reductions\n",
    "from datashader.core import bypixel\n",
    "from datashader.utils import lnglat_to_meters as webm, export_image\n",
    "from datashader.colors import colormap_select, Greys9, viridis, inferno\n",
    "import copy\n",
    "\n",
    "\n",
    "from pyproj import Proj, transform\n",
    "import numpy as np\n",
    "import pandas as pd\n",
    "import urllib\n",
    "import json\n",
    "import datetime\n",
    "import colorlover as cl\n",
    "\n",
    "import plotly.plotly as py\n",
    "import plotly.graph_objs as go\n",
    "from plotly import tools\n",
    "\n",
    "from shapely.geometry import Point, Polygon, shape\n",
    "# In order to get shapley, you'll need to run [pip install shapely.geometry] from your terminal\n",
    "\n",
    "from functools import partial\n",
    "\n",
    "from IPython.display import GeoJSON"
   ]
  },
  {
   "cell_type": "code",
   "execution_count": 117,
   "metadata": {},
   "outputs": [
    {
     "data": {
      "text/html": [
       "<script>requirejs.config({paths: { 'plotly': ['https://cdn.plot.ly/plotly-latest.min']},});if(!window.Plotly) {{require(['plotly'],function(plotly) {window.Plotly=plotly;});}}</script>"
      ],
      "text/vnd.plotly.v1+html": [
       "<script>requirejs.config({paths: { 'plotly': ['https://cdn.plot.ly/plotly-latest.min']},});if(!window.Plotly) {{require(['plotly'],function(plotly) {window.Plotly=plotly;});}}</script>"
      ]
     },
     "metadata": {},
     "output_type": "display_data"
    },
    {
     "data": {
      "text/html": [
       "\n",
       "    <div class=\"bk-root\">\n",
       "        <a href=\"https://bokeh.pydata.org\" target=\"_blank\" class=\"bk-logo bk-logo-small bk-logo-notebook\"></a>\n",
       "        <span id=\"19eec63b-8ebd-44b3-bdf2-fe9ddcbc21bd\">Loading BokehJS ...</span>\n",
       "    </div>"
      ]
     },
     "metadata": {},
     "output_type": "display_data"
    },
    {
     "data": {
      "application/javascript": [
       "\n",
       "(function(root) {\n",
       "  function now() {\n",
       "    return new Date();\n",
       "  }\n",
       "\n",
       "  var force = true;\n",
       "\n",
       "  if (typeof (root._bokeh_onload_callbacks) === \"undefined\" || force === true) {\n",
       "    root._bokeh_onload_callbacks = [];\n",
       "    root._bokeh_is_loading = undefined;\n",
       "  }\n",
       "\n",
       "  var JS_MIME_TYPE = 'application/javascript';\n",
       "  var HTML_MIME_TYPE = 'text/html';\n",
       "  var EXEC_MIME_TYPE = 'application/vnd.bokehjs_exec.v0+json';\n",
       "  var CLASS_NAME = 'output_bokeh rendered_html';\n",
       "\n",
       "  /**\n",
       "   * Render data to the DOM node\n",
       "   */\n",
       "  function render(props, node) {\n",
       "    var script = document.createElement(\"script\");\n",
       "    node.appendChild(script);\n",
       "  }\n",
       "\n",
       "  /**\n",
       "   * Handle when an output is cleared or removed\n",
       "   */\n",
       "  function handleClearOutput(event, handle) {\n",
       "    var cell = handle.cell;\n",
       "\n",
       "    var id = cell.output_area._bokeh_element_id;\n",
       "    var server_id = cell.output_area._bokeh_server_id;\n",
       "    // Clean up Bokeh references\n",
       "    if (id != null && id in Bokeh.index) {\n",
       "      Bokeh.index[id].model.document.clear();\n",
       "      delete Bokeh.index[id];\n",
       "    }\n",
       "\n",
       "    if (server_id !== undefined) {\n",
       "      // Clean up Bokeh references\n",
       "      var cmd = \"from bokeh.io.state import curstate; print(curstate().uuid_to_server['\" + server_id + \"'].get_sessions()[0].document.roots[0]._id)\";\n",
       "      cell.notebook.kernel.execute(cmd, {\n",
       "        iopub: {\n",
       "          output: function(msg) {\n",
       "            var id = msg.content.text.trim();\n",
       "            if (id in Bokeh.index) {\n",
       "              Bokeh.index[id].model.document.clear();\n",
       "              delete Bokeh.index[id];\n",
       "            }\n",
       "          }\n",
       "        }\n",
       "      });\n",
       "      // Destroy server and session\n",
       "      var cmd = \"import bokeh.io.notebook as ion; ion.destroy_server('\" + server_id + \"')\";\n",
       "      cell.notebook.kernel.execute(cmd);\n",
       "    }\n",
       "  }\n",
       "\n",
       "  /**\n",
       "   * Handle when a new output is added\n",
       "   */\n",
       "  function handleAddOutput(event, handle) {\n",
       "    var output_area = handle.output_area;\n",
       "    var output = handle.output;\n",
       "\n",
       "    // limit handleAddOutput to display_data with EXEC_MIME_TYPE content only\n",
       "    if ((output.output_type != \"display_data\") || (!output.data.hasOwnProperty(EXEC_MIME_TYPE))) {\n",
       "      return\n",
       "    }\n",
       "\n",
       "    var toinsert = output_area.element.find(\".\" + CLASS_NAME.split(' ')[0]);\n",
       "\n",
       "    if (output.metadata[EXEC_MIME_TYPE][\"id\"] !== undefined) {\n",
       "      toinsert[toinsert.length - 1].firstChild.textContent = output.data[JS_MIME_TYPE];\n",
       "      // store reference to embed id on output_area\n",
       "      output_area._bokeh_element_id = output.metadata[EXEC_MIME_TYPE][\"id\"];\n",
       "    }\n",
       "    if (output.metadata[EXEC_MIME_TYPE][\"server_id\"] !== undefined) {\n",
       "      var bk_div = document.createElement(\"div\");\n",
       "      bk_div.innerHTML = output.data[HTML_MIME_TYPE];\n",
       "      var script_attrs = bk_div.children[0].attributes;\n",
       "      for (var i = 0; i < script_attrs.length; i++) {\n",
       "        toinsert[toinsert.length - 1].firstChild.setAttribute(script_attrs[i].name, script_attrs[i].value);\n",
       "      }\n",
       "      // store reference to server id on output_area\n",
       "      output_area._bokeh_server_id = output.metadata[EXEC_MIME_TYPE][\"server_id\"];\n",
       "    }\n",
       "  }\n",
       "\n",
       "  function register_renderer(events, OutputArea) {\n",
       "\n",
       "    function append_mime(data, metadata, element) {\n",
       "      // create a DOM node to render to\n",
       "      var toinsert = this.create_output_subarea(\n",
       "        metadata,\n",
       "        CLASS_NAME,\n",
       "        EXEC_MIME_TYPE\n",
       "      );\n",
       "      this.keyboard_manager.register_events(toinsert);\n",
       "      // Render to node\n",
       "      var props = {data: data, metadata: metadata[EXEC_MIME_TYPE]};\n",
       "      render(props, toinsert[toinsert.length - 1]);\n",
       "      element.append(toinsert);\n",
       "      return toinsert\n",
       "    }\n",
       "\n",
       "    /* Handle when an output is cleared or removed */\n",
       "    events.on('clear_output.CodeCell', handleClearOutput);\n",
       "    events.on('delete.Cell', handleClearOutput);\n",
       "\n",
       "    /* Handle when a new output is added */\n",
       "    events.on('output_added.OutputArea', handleAddOutput);\n",
       "\n",
       "    /**\n",
       "     * Register the mime type and append_mime function with output_area\n",
       "     */\n",
       "    OutputArea.prototype.register_mime_type(EXEC_MIME_TYPE, append_mime, {\n",
       "      /* Is output safe? */\n",
       "      safe: true,\n",
       "      /* Index of renderer in `output_area.display_order` */\n",
       "      index: 0\n",
       "    });\n",
       "  }\n",
       "\n",
       "  // register the mime type if in Jupyter Notebook environment and previously unregistered\n",
       "  if (root.Jupyter !== undefined) {\n",
       "    var events = require('base/js/events');\n",
       "    var OutputArea = require('notebook/js/outputarea').OutputArea;\n",
       "\n",
       "    if (OutputArea.prototype.mime_types().indexOf(EXEC_MIME_TYPE) == -1) {\n",
       "      register_renderer(events, OutputArea);\n",
       "    }\n",
       "  }\n",
       "\n",
       "  \n",
       "  if (typeof (root._bokeh_timeout) === \"undefined\" || force === true) {\n",
       "    root._bokeh_timeout = Date.now() + 5000;\n",
       "    root._bokeh_failed_load = false;\n",
       "  }\n",
       "\n",
       "  var NB_LOAD_WARNING = {'data': {'text/html':\n",
       "     \"<div style='background-color: #fdd'>\\n\"+\n",
       "     \"<p>\\n\"+\n",
       "     \"BokehJS does not appear to have successfully loaded. If loading BokehJS from CDN, this \\n\"+\n",
       "     \"may be due to a slow or bad network connection. Possible fixes:\\n\"+\n",
       "     \"</p>\\n\"+\n",
       "     \"<ul>\\n\"+\n",
       "     \"<li>re-rerun `output_notebook()` to attempt to load from CDN again, or</li>\\n\"+\n",
       "     \"<li>use INLINE resources instead, as so:</li>\\n\"+\n",
       "     \"</ul>\\n\"+\n",
       "     \"<code>\\n\"+\n",
       "     \"from bokeh.resources import INLINE\\n\"+\n",
       "     \"output_notebook(resources=INLINE)\\n\"+\n",
       "     \"</code>\\n\"+\n",
       "     \"</div>\"}};\n",
       "\n",
       "  function display_loaded() {\n",
       "    var el = document.getElementById(\"19eec63b-8ebd-44b3-bdf2-fe9ddcbc21bd\");\n",
       "    if (el != null) {\n",
       "      el.textContent = \"BokehJS is loading...\";\n",
       "    }\n",
       "    if (root.Bokeh !== undefined) {\n",
       "      if (el != null) {\n",
       "        el.textContent = \"BokehJS \" + root.Bokeh.version + \" successfully loaded.\";\n",
       "      }\n",
       "    } else if (Date.now() < root._bokeh_timeout) {\n",
       "      setTimeout(display_loaded, 100)\n",
       "    }\n",
       "  }\n",
       "\n",
       "\n",
       "  function run_callbacks() {\n",
       "    try {\n",
       "      root._bokeh_onload_callbacks.forEach(function(callback) { callback() });\n",
       "    }\n",
       "    finally {\n",
       "      delete root._bokeh_onload_callbacks\n",
       "    }\n",
       "    console.info(\"Bokeh: all callbacks have finished\");\n",
       "  }\n",
       "\n",
       "  function load_libs(js_urls, callback) {\n",
       "    root._bokeh_onload_callbacks.push(callback);\n",
       "    if (root._bokeh_is_loading > 0) {\n",
       "      console.log(\"Bokeh: BokehJS is being loaded, scheduling callback at\", now());\n",
       "      return null;\n",
       "    }\n",
       "    if (js_urls == null || js_urls.length === 0) {\n",
       "      run_callbacks();\n",
       "      return null;\n",
       "    }\n",
       "    console.log(\"Bokeh: BokehJS not loaded, scheduling load and callback at\", now());\n",
       "    root._bokeh_is_loading = js_urls.length;\n",
       "    for (var i = 0; i < js_urls.length; i++) {\n",
       "      var url = js_urls[i];\n",
       "      var s = document.createElement('script');\n",
       "      s.src = url;\n",
       "      s.async = false;\n",
       "      s.onreadystatechange = s.onload = function() {\n",
       "        root._bokeh_is_loading--;\n",
       "        if (root._bokeh_is_loading === 0) {\n",
       "          console.log(\"Bokeh: all BokehJS libraries loaded\");\n",
       "          run_callbacks()\n",
       "        }\n",
       "      };\n",
       "      s.onerror = function() {\n",
       "        console.warn(\"failed to load library \" + url);\n",
       "      };\n",
       "      console.log(\"Bokeh: injecting script tag for BokehJS library: \", url);\n",
       "      document.getElementsByTagName(\"head\")[0].appendChild(s);\n",
       "    }\n",
       "  };var element = document.getElementById(\"19eec63b-8ebd-44b3-bdf2-fe9ddcbc21bd\");\n",
       "  if (element == null) {\n",
       "    console.log(\"Bokeh: ERROR: autoload.js configured with elementid '19eec63b-8ebd-44b3-bdf2-fe9ddcbc21bd' but no matching script tag was found. \")\n",
       "    return false;\n",
       "  }\n",
       "\n",
       "  var js_urls = [\"https://cdn.pydata.org/bokeh/release/bokeh-0.13.0.min.js\", \"https://cdn.pydata.org/bokeh/release/bokeh-widgets-0.13.0.min.js\", \"https://cdn.pydata.org/bokeh/release/bokeh-tables-0.13.0.min.js\", \"https://cdn.pydata.org/bokeh/release/bokeh-gl-0.13.0.min.js\"];\n",
       "\n",
       "  var inline_js = [\n",
       "    function(Bokeh) {\n",
       "      Bokeh.set_log_level(\"info\");\n",
       "    },\n",
       "    \n",
       "    function(Bokeh) {\n",
       "      \n",
       "    },\n",
       "    function(Bokeh) {\n",
       "      console.log(\"Bokeh: injecting CSS: https://cdn.pydata.org/bokeh/release/bokeh-0.13.0.min.css\");\n",
       "      Bokeh.embed.inject_css(\"https://cdn.pydata.org/bokeh/release/bokeh-0.13.0.min.css\");\n",
       "      console.log(\"Bokeh: injecting CSS: https://cdn.pydata.org/bokeh/release/bokeh-widgets-0.13.0.min.css\");\n",
       "      Bokeh.embed.inject_css(\"https://cdn.pydata.org/bokeh/release/bokeh-widgets-0.13.0.min.css\");\n",
       "      console.log(\"Bokeh: injecting CSS: https://cdn.pydata.org/bokeh/release/bokeh-tables-0.13.0.min.css\");\n",
       "      Bokeh.embed.inject_css(\"https://cdn.pydata.org/bokeh/release/bokeh-tables-0.13.0.min.css\");\n",
       "    }\n",
       "  ];\n",
       "\n",
       "  function run_inline_js() {\n",
       "    \n",
       "    if ((root.Bokeh !== undefined) || (force === true)) {\n",
       "      for (var i = 0; i < inline_js.length; i++) {\n",
       "        inline_js[i].call(root, root.Bokeh);\n",
       "      }if (force === true) {\n",
       "        display_loaded();\n",
       "      }} else if (Date.now() < root._bokeh_timeout) {\n",
       "      setTimeout(run_inline_js, 100);\n",
       "    } else if (!root._bokeh_failed_load) {\n",
       "      console.log(\"Bokeh: BokehJS failed to load within specified timeout.\");\n",
       "      root._bokeh_failed_load = true;\n",
       "    } else if (force !== true) {\n",
       "      var cell = $(document.getElementById(\"19eec63b-8ebd-44b3-bdf2-fe9ddcbc21bd\")).parents('.cell').data().cell;\n",
       "      cell.output_area.append_execute_result(NB_LOAD_WARNING)\n",
       "    }\n",
       "\n",
       "  }\n",
       "\n",
       "  if (root._bokeh_is_loading === 0) {\n",
       "    console.log(\"Bokeh: BokehJS loaded, going straight to plotting\");\n",
       "    run_inline_js();\n",
       "  } else {\n",
       "    load_libs(js_urls, function() {\n",
       "      console.log(\"Bokeh: BokehJS plotting callback run at\", now());\n",
       "      run_inline_js();\n",
       "    });\n",
       "  }\n",
       "}(window));"
      ],
      "application/vnd.bokehjs_load.v0+json": "\n(function(root) {\n  function now() {\n    return new Date();\n  }\n\n  var force = true;\n\n  if (typeof (root._bokeh_onload_callbacks) === \"undefined\" || force === true) {\n    root._bokeh_onload_callbacks = [];\n    root._bokeh_is_loading = undefined;\n  }\n\n  \n\n  \n  if (typeof (root._bokeh_timeout) === \"undefined\" || force === true) {\n    root._bokeh_timeout = Date.now() + 5000;\n    root._bokeh_failed_load = false;\n  }\n\n  var NB_LOAD_WARNING = {'data': {'text/html':\n     \"<div style='background-color: #fdd'>\\n\"+\n     \"<p>\\n\"+\n     \"BokehJS does not appear to have successfully loaded. If loading BokehJS from CDN, this \\n\"+\n     \"may be due to a slow or bad network connection. Possible fixes:\\n\"+\n     \"</p>\\n\"+\n     \"<ul>\\n\"+\n     \"<li>re-rerun `output_notebook()` to attempt to load from CDN again, or</li>\\n\"+\n     \"<li>use INLINE resources instead, as so:</li>\\n\"+\n     \"</ul>\\n\"+\n     \"<code>\\n\"+\n     \"from bokeh.resources import INLINE\\n\"+\n     \"output_notebook(resources=INLINE)\\n\"+\n     \"</code>\\n\"+\n     \"</div>\"}};\n\n  function display_loaded() {\n    var el = document.getElementById(\"19eec63b-8ebd-44b3-bdf2-fe9ddcbc21bd\");\n    if (el != null) {\n      el.textContent = \"BokehJS is loading...\";\n    }\n    if (root.Bokeh !== undefined) {\n      if (el != null) {\n        el.textContent = \"BokehJS \" + root.Bokeh.version + \" successfully loaded.\";\n      }\n    } else if (Date.now() < root._bokeh_timeout) {\n      setTimeout(display_loaded, 100)\n    }\n  }\n\n\n  function run_callbacks() {\n    try {\n      root._bokeh_onload_callbacks.forEach(function(callback) { callback() });\n    }\n    finally {\n      delete root._bokeh_onload_callbacks\n    }\n    console.info(\"Bokeh: all callbacks have finished\");\n  }\n\n  function load_libs(js_urls, callback) {\n    root._bokeh_onload_callbacks.push(callback);\n    if (root._bokeh_is_loading > 0) {\n      console.log(\"Bokeh: BokehJS is being loaded, scheduling callback at\", now());\n      return null;\n    }\n    if (js_urls == null || js_urls.length === 0) {\n      run_callbacks();\n      return null;\n    }\n    console.log(\"Bokeh: BokehJS not loaded, scheduling load and callback at\", now());\n    root._bokeh_is_loading = js_urls.length;\n    for (var i = 0; i < js_urls.length; i++) {\n      var url = js_urls[i];\n      var s = document.createElement('script');\n      s.src = url;\n      s.async = false;\n      s.onreadystatechange = s.onload = function() {\n        root._bokeh_is_loading--;\n        if (root._bokeh_is_loading === 0) {\n          console.log(\"Bokeh: all BokehJS libraries loaded\");\n          run_callbacks()\n        }\n      };\n      s.onerror = function() {\n        console.warn(\"failed to load library \" + url);\n      };\n      console.log(\"Bokeh: injecting script tag for BokehJS library: \", url);\n      document.getElementsByTagName(\"head\")[0].appendChild(s);\n    }\n  };var element = document.getElementById(\"19eec63b-8ebd-44b3-bdf2-fe9ddcbc21bd\");\n  if (element == null) {\n    console.log(\"Bokeh: ERROR: autoload.js configured with elementid '19eec63b-8ebd-44b3-bdf2-fe9ddcbc21bd' but no matching script tag was found. \")\n    return false;\n  }\n\n  var js_urls = [\"https://cdn.pydata.org/bokeh/release/bokeh-0.13.0.min.js\", \"https://cdn.pydata.org/bokeh/release/bokeh-widgets-0.13.0.min.js\", \"https://cdn.pydata.org/bokeh/release/bokeh-tables-0.13.0.min.js\", \"https://cdn.pydata.org/bokeh/release/bokeh-gl-0.13.0.min.js\"];\n\n  var inline_js = [\n    function(Bokeh) {\n      Bokeh.set_log_level(\"info\");\n    },\n    \n    function(Bokeh) {\n      \n    },\n    function(Bokeh) {\n      console.log(\"Bokeh: injecting CSS: https://cdn.pydata.org/bokeh/release/bokeh-0.13.0.min.css\");\n      Bokeh.embed.inject_css(\"https://cdn.pydata.org/bokeh/release/bokeh-0.13.0.min.css\");\n      console.log(\"Bokeh: injecting CSS: https://cdn.pydata.org/bokeh/release/bokeh-widgets-0.13.0.min.css\");\n      Bokeh.embed.inject_css(\"https://cdn.pydata.org/bokeh/release/bokeh-widgets-0.13.0.min.css\");\n      console.log(\"Bokeh: injecting CSS: https://cdn.pydata.org/bokeh/release/bokeh-tables-0.13.0.min.css\");\n      Bokeh.embed.inject_css(\"https://cdn.pydata.org/bokeh/release/bokeh-tables-0.13.0.min.css\");\n    }\n  ];\n\n  function run_inline_js() {\n    \n    if ((root.Bokeh !== undefined) || (force === true)) {\n      for (var i = 0; i < inline_js.length; i++) {\n        inline_js[i].call(root, root.Bokeh);\n      }if (force === true) {\n        display_loaded();\n      }} else if (Date.now() < root._bokeh_timeout) {\n      setTimeout(run_inline_js, 100);\n    } else if (!root._bokeh_failed_load) {\n      console.log(\"Bokeh: BokehJS failed to load within specified timeout.\");\n      root._bokeh_failed_load = true;\n    } else if (force !== true) {\n      var cell = $(document.getElementById(\"19eec63b-8ebd-44b3-bdf2-fe9ddcbc21bd\")).parents('.cell').data().cell;\n      cell.output_area.append_execute_result(NB_LOAD_WARNING)\n    }\n\n  }\n\n  if (root._bokeh_is_loading === 0) {\n    console.log(\"Bokeh: BokehJS loaded, going straight to plotting\");\n    run_inline_js();\n  } else {\n    load_libs(js_urls, function() {\n      console.log(\"Bokeh: BokehJS plotting callback run at\", now());\n      run_inline_js();\n    });\n  }\n}(window));"
     },
     "metadata": {},
     "output_type": "display_data"
    }
   ],
   "source": [
    "from bokeh.io import output_notebook, show # legend\n",
    "from plotly.offline import download_plotlyjs, init_notebook_mode, plot, iplot \n",
    "init_notebook_mode(connected=True)\n",
    "output_notebook()\n",
    "import plotly\n",
    "plotly.tools.set_credentials_file(username='czhu505', api_key='asIEqTlAQJOnVrNOGPpE')"
   ]
  },
  {
   "cell_type": "markdown",
   "metadata": {},
   "source": [
    "For module 2 we'll be looking at techniques for dealing with big data. In particular binning strategies and the datashader library (which possibly proves we'll never need to bin large data for visualization ever again.)\n",
    "\n",
    "To demonstrate these concepts we'll be looking at the PLUTO dataset put out by New York City's department of city planning. PLUTO contains data about every tax lot in New York City.\n",
    "\n",
    "PLUTO data can be downloaded from here. Unzip them to the same directory as this notebook, and you should be able to read them in using this (or very similar) code. Also take note of the data dictionary, it'll come in handy for this assignment."
   ]
  },
  {
   "cell_type": "code",
   "execution_count": 68,
   "metadata": {},
   "outputs": [],
   "source": [
    "bk = pd.read_csv('BK_18v1.csv',low_memory=False)\n",
    "bx = pd.read_csv('BX_18v1.csv',low_memory=False)\n",
    "mn = pd.read_csv('MN_18v1.csv',low_memory=False)\n",
    "qn = pd.read_csv('QN_18v1.csv',low_memory=False)\n",
    "si = pd.read_csv('SI_18v1.csv',low_memory=False)\n",
    "\n",
    "ny = pd.concat([bk, bx, mn, qn, si], ignore_index=True,sort=True)\n",
    "\n",
    "# Getting rid of some outliers\n",
    "ny = ny[(ny['YearBuilt'] > 1850) & (ny['YearBuilt'] < 2020) & (ny['NumFloors'] != 0)]"
   ]
  },
  {
   "cell_type": "code",
   "execution_count": 55,
   "metadata": {},
   "outputs": [
    {
     "data": {
      "text/html": [
       "<div>\n",
       "<style scoped>\n",
       "    .dataframe tbody tr th:only-of-type {\n",
       "        vertical-align: middle;\n",
       "    }\n",
       "\n",
       "    .dataframe tbody tr th {\n",
       "        vertical-align: top;\n",
       "    }\n",
       "\n",
       "    .dataframe thead th {\n",
       "        text-align: right;\n",
       "    }\n",
       "</style>\n",
       "<table border=\"1\" class=\"dataframe\">\n",
       "  <thead>\n",
       "    <tr style=\"text-align: right;\">\n",
       "      <th></th>\n",
       "      <th>APPBBL</th>\n",
       "      <th>AreaSource</th>\n",
       "      <th>AssessLand</th>\n",
       "      <th>AssessTot</th>\n",
       "      <th>BBL</th>\n",
       "      <th>BldgArea</th>\n",
       "      <th>BldgDepth</th>\n",
       "      <th>BldgFront</th>\n",
       "      <th>Block</th>\n",
       "      <th>BoroCode</th>\n",
       "      <th>...</th>\n",
       "      <th>YearAlter1</th>\n",
       "      <th>YearAlter2</th>\n",
       "      <th>YearBuilt</th>\n",
       "      <th>ZipCode</th>\n",
       "      <th>lon</th>\n",
       "      <th>lat</th>\n",
       "      <th>stories</th>\n",
       "      <th>AssessStruct</th>\n",
       "      <th>AssessLand3tile</th>\n",
       "      <th>AssessStruct3tile</th>\n",
       "    </tr>\n",
       "  </thead>\n",
       "  <tbody>\n",
       "    <tr>\n",
       "      <th>count</th>\n",
       "      <td>8.111340e+05</td>\n",
       "      <td>811134.000000</td>\n",
       "      <td>8.111340e+05</td>\n",
       "      <td>8.111340e+05</td>\n",
       "      <td>8.111340e+05</td>\n",
       "      <td>8.111340e+05</td>\n",
       "      <td>811134.000000</td>\n",
       "      <td>811134.000000</td>\n",
       "      <td>811134.000000</td>\n",
       "      <td>811134.000000</td>\n",
       "      <td>...</td>\n",
       "      <td>811134.000000</td>\n",
       "      <td>811134.000000</td>\n",
       "      <td>811134.000000</td>\n",
       "      <td>811130.000000</td>\n",
       "      <td>811134.000000</td>\n",
       "      <td>811134.000000</td>\n",
       "      <td>811134.00000</td>\n",
       "      <td>8.111340e+05</td>\n",
       "      <td>811134.000000</td>\n",
       "      <td>811134.000000</td>\n",
       "    </tr>\n",
       "    <tr>\n",
       "      <th>mean</th>\n",
       "      <td>3.813477e+08</td>\n",
       "      <td>2.007968</td>\n",
       "      <td>9.481644e+04</td>\n",
       "      <td>4.477940e+05</td>\n",
       "      <td>3.515303e+09</td>\n",
       "      <td>6.547904e+03</td>\n",
       "      <td>48.583482</td>\n",
       "      <td>27.058638</td>\n",
       "      <td>5320.438081</td>\n",
       "      <td>3.462099</td>\n",
       "      <td>...</td>\n",
       "      <td>216.503245</td>\n",
       "      <td>34.628175</td>\n",
       "      <td>1940.941172</td>\n",
       "      <td>11019.014735</td>\n",
       "      <td>-76.429181</td>\n",
       "      <td>40.301042</td>\n",
       "      <td>0.11225</td>\n",
       "      <td>3.529776e+05</td>\n",
       "      <td>2.010018</td>\n",
       "      <td>2.010080</td>\n",
       "    </tr>\n",
       "    <tr>\n",
       "      <th>std</th>\n",
       "      <td>1.199221e+09</td>\n",
       "      <td>0.176181</td>\n",
       "      <td>3.854979e+06</td>\n",
       "      <td>9.828122e+06</td>\n",
       "      <td>1.021924e+09</td>\n",
       "      <td>5.275474e+04</td>\n",
       "      <td>35.836831</td>\n",
       "      <td>33.750576</td>\n",
       "      <td>3673.902181</td>\n",
       "      <td>1.013953</td>\n",
       "      <td>...</td>\n",
       "      <td>621.242901</td>\n",
       "      <td>261.268860</td>\n",
       "      <td>29.114132</td>\n",
       "      <td>467.854799</td>\n",
       "      <td>0.034912</td>\n",
       "      <td>0.025927</td>\n",
       "      <td>1.51961</td>\n",
       "      <td>6.470891e+06</td>\n",
       "      <td>0.818470</td>\n",
       "      <td>0.818453</td>\n",
       "    </tr>\n",
       "    <tr>\n",
       "      <th>min</th>\n",
       "      <td>0.000000e+00</td>\n",
       "      <td>2.000000</td>\n",
       "      <td>0.000000e+00</td>\n",
       "      <td>0.000000e+00</td>\n",
       "      <td>1.000020e+09</td>\n",
       "      <td>0.000000e+00</td>\n",
       "      <td>0.000000</td>\n",
       "      <td>0.000000</td>\n",
       "      <td>1.000000</td>\n",
       "      <td>1.000000</td>\n",
       "      <td>...</td>\n",
       "      <td>0.000000</td>\n",
       "      <td>0.000000</td>\n",
       "      <td>1851.000000</td>\n",
       "      <td>10001.000000</td>\n",
       "      <td>-76.528905</td>\n",
       "      <td>40.239419</td>\n",
       "      <td>0.00000</td>\n",
       "      <td>0.000000e+00</td>\n",
       "      <td>1.000000</td>\n",
       "      <td>1.000000</td>\n",
       "    </tr>\n",
       "    <tr>\n",
       "      <th>25%</th>\n",
       "      <td>0.000000e+00</td>\n",
       "      <td>2.000000</td>\n",
       "      <td>6.986000e+03</td>\n",
       "      <td>2.423100e+04</td>\n",
       "      <td>3.032870e+09</td>\n",
       "      <td>1.453000e+03</td>\n",
       "      <td>35.000000</td>\n",
       "      <td>18.000000</td>\n",
       "      <td>2338.000000</td>\n",
       "      <td>3.000000</td>\n",
       "      <td>...</td>\n",
       "      <td>0.000000</td>\n",
       "      <td>0.000000</td>\n",
       "      <td>1920.000000</td>\n",
       "      <td>10466.000000</td>\n",
       "      <td>-76.447212</td>\n",
       "      <td>40.280921</td>\n",
       "      <td>0.00000</td>\n",
       "      <td>1.552200e+04</td>\n",
       "      <td>1.000000</td>\n",
       "      <td>1.000000</td>\n",
       "    </tr>\n",
       "    <tr>\n",
       "      <th>50%</th>\n",
       "      <td>0.000000e+00</td>\n",
       "      <td>2.000000</td>\n",
       "      <td>9.656000e+03</td>\n",
       "      <td>3.151800e+04</td>\n",
       "      <td>4.008600e+09</td>\n",
       "      <td>2.060000e+03</td>\n",
       "      <td>44.000000</td>\n",
       "      <td>20.000000</td>\n",
       "      <td>4863.000000</td>\n",
       "      <td>4.000000</td>\n",
       "      <td>...</td>\n",
       "      <td>0.000000</td>\n",
       "      <td>0.000000</td>\n",
       "      <td>1931.000000</td>\n",
       "      <td>11222.000000</td>\n",
       "      <td>-76.426652</td>\n",
       "      <td>40.299464</td>\n",
       "      <td>0.00000</td>\n",
       "      <td>2.188250e+04</td>\n",
       "      <td>2.000000</td>\n",
       "      <td>2.000000</td>\n",
       "    </tr>\n",
       "    <tr>\n",
       "      <th>75%</th>\n",
       "      <td>0.000000e+00</td>\n",
       "      <td>2.000000</td>\n",
       "      <td>1.428800e+04</td>\n",
       "      <td>4.740500e+04</td>\n",
       "      <td>4.104820e+09</td>\n",
       "      <td>3.060000e+03</td>\n",
       "      <td>54.000000</td>\n",
       "      <td>25.000000</td>\n",
       "      <td>7494.250000</td>\n",
       "      <td>4.000000</td>\n",
       "      <td>...</td>\n",
       "      <td>0.000000</td>\n",
       "      <td>0.000000</td>\n",
       "      <td>1960.000000</td>\n",
       "      <td>11370.000000</td>\n",
       "      <td>-76.404557</td>\n",
       "      <td>40.317659</td>\n",
       "      <td>0.00000</td>\n",
       "      <td>3.391875e+04</td>\n",
       "      <td>3.000000</td>\n",
       "      <td>3.000000</td>\n",
       "    </tr>\n",
       "    <tr>\n",
       "      <th>max</th>\n",
       "      <td>5.080480e+09</td>\n",
       "      <td>7.000000</td>\n",
       "      <td>3.211276e+09</td>\n",
       "      <td>6.957915e+09</td>\n",
       "      <td>5.080500e+09</td>\n",
       "      <td>1.709504e+07</td>\n",
       "      <td>9388.000000</td>\n",
       "      <td>8050.000000</td>\n",
       "      <td>16350.000000</td>\n",
       "      <td>5.000000</td>\n",
       "      <td>...</td>\n",
       "      <td>2017.000000</td>\n",
       "      <td>2017.000000</td>\n",
       "      <td>2018.000000</td>\n",
       "      <td>12345.000000</td>\n",
       "      <td>-76.363165</td>\n",
       "      <td>40.368737</td>\n",
       "      <td>50.00000</td>\n",
       "      <td>3.746639e+09</td>\n",
       "      <td>3.000000</td>\n",
       "      <td>3.000000</td>\n",
       "    </tr>\n",
       "  </tbody>\n",
       "</table>\n",
       "<p>8 rows × 67 columns</p>\n",
       "</div>"
      ],
      "text/plain": [
       "             APPBBL     AreaSource    AssessLand     AssessTot           BBL  \\\n",
       "count  8.111340e+05  811134.000000  8.111340e+05  8.111340e+05  8.111340e+05   \n",
       "mean   3.813477e+08       2.007968  9.481644e+04  4.477940e+05  3.515303e+09   \n",
       "std    1.199221e+09       0.176181  3.854979e+06  9.828122e+06  1.021924e+09   \n",
       "min    0.000000e+00       2.000000  0.000000e+00  0.000000e+00  1.000020e+09   \n",
       "25%    0.000000e+00       2.000000  6.986000e+03  2.423100e+04  3.032870e+09   \n",
       "50%    0.000000e+00       2.000000  9.656000e+03  3.151800e+04  4.008600e+09   \n",
       "75%    0.000000e+00       2.000000  1.428800e+04  4.740500e+04  4.104820e+09   \n",
       "max    5.080480e+09       7.000000  3.211276e+09  6.957915e+09  5.080500e+09   \n",
       "\n",
       "           BldgArea      BldgDepth      BldgFront          Block  \\\n",
       "count  8.111340e+05  811134.000000  811134.000000  811134.000000   \n",
       "mean   6.547904e+03      48.583482      27.058638    5320.438081   \n",
       "std    5.275474e+04      35.836831      33.750576    3673.902181   \n",
       "min    0.000000e+00       0.000000       0.000000       1.000000   \n",
       "25%    1.453000e+03      35.000000      18.000000    2338.000000   \n",
       "50%    2.060000e+03      44.000000      20.000000    4863.000000   \n",
       "75%    3.060000e+03      54.000000      25.000000    7494.250000   \n",
       "max    1.709504e+07    9388.000000    8050.000000   16350.000000   \n",
       "\n",
       "            BoroCode        ...             YearAlter1     YearAlter2  \\\n",
       "count  811134.000000        ...          811134.000000  811134.000000   \n",
       "mean        3.462099        ...             216.503245      34.628175   \n",
       "std         1.013953        ...             621.242901     261.268860   \n",
       "min         1.000000        ...               0.000000       0.000000   \n",
       "25%         3.000000        ...               0.000000       0.000000   \n",
       "50%         4.000000        ...               0.000000       0.000000   \n",
       "75%         4.000000        ...               0.000000       0.000000   \n",
       "max         5.000000        ...            2017.000000    2017.000000   \n",
       "\n",
       "           YearBuilt        ZipCode            lon            lat  \\\n",
       "count  811134.000000  811130.000000  811134.000000  811134.000000   \n",
       "mean     1940.941172   11019.014735     -76.429181      40.301042   \n",
       "std        29.114132     467.854799       0.034912       0.025927   \n",
       "min      1851.000000   10001.000000     -76.528905      40.239419   \n",
       "25%      1920.000000   10466.000000     -76.447212      40.280921   \n",
       "50%      1931.000000   11222.000000     -76.426652      40.299464   \n",
       "75%      1960.000000   11370.000000     -76.404557      40.317659   \n",
       "max      2018.000000   12345.000000     -76.363165      40.368737   \n",
       "\n",
       "            stories  AssessStruct  AssessLand3tile  AssessStruct3tile  \n",
       "count  811134.00000  8.111340e+05    811134.000000      811134.000000  \n",
       "mean        0.11225  3.529776e+05         2.010018           2.010080  \n",
       "std         1.51961  6.470891e+06         0.818470           0.818453  \n",
       "min         0.00000  0.000000e+00         1.000000           1.000000  \n",
       "25%         0.00000  1.552200e+04         1.000000           1.000000  \n",
       "50%         0.00000  2.188250e+04         2.000000           2.000000  \n",
       "75%         0.00000  3.391875e+04         3.000000           3.000000  \n",
       "max        50.00000  3.746639e+09         3.000000           3.000000  \n",
       "\n",
       "[8 rows x 67 columns]"
      ]
     },
     "execution_count": 55,
     "metadata": {},
     "output_type": "execute_result"
    }
   ],
   "source": [
    "ny.describe()"
   ]
  },
  {
   "cell_type": "markdown",
   "metadata": {},
   "source": [
    "I'll also do some prep for the geographic component of this data, which we'll be relying on for datashader.\n",
    "\n",
    "You're not required to know how I'm retrieving the lattitude and longitude here, but for those interested: this dataset uses a flat x-y projection (assuming for a small enough area that the world is flat for easier calculations), and this needs to be projected back to traditional lattitude and longitude."
   ]
  },
  {
   "cell_type": "code",
   "execution_count": 79,
   "metadata": {},
   "outputs": [],
   "source": [
    "wgs84 = Proj(\"+proj=longlat +ellps=GRS80 +datum=NAD83 +no_defs\")\n",
    "nyli = Proj(\"+proj=lcc +lat_1=40.66666666666666 +lat_2=41.03333333333333 +lat_0=40.16666666666666 +lon_0=-74 +x_0=300000 +y_0=0 +ellps=GRS80 +datum=NAD83 +to_meter=0.3048006096012192 +no_defs\")\n",
    "ny['XCoord'] = 0.3048*ny['XCoord']\n",
    "ny['YCoord'] = 0.3048*ny['YCoord']\n",
    "ny['lon'], ny['lat'] = transform(nyli, wgs84, ny['XCoord'].values, ny['YCoord'].values)\n",
    "\n",
    "ny = ny[(ny['lon'] < -60) & (ny['lon'] > -100) & (ny['lat'] < 60) & (ny['lat'] > 20)]\n",
    "\n",
    "#Defining some helper functions for DataShader\n",
    "background = \"black\"\n",
    "export = partial(export_image, background = background, export_path=\"export\")\n",
    "cm = partial(colormap_select, reverse=(background!=\"black\"))"
   ]
  },
  {
   "cell_type": "markdown",
   "metadata": {},
   "source": [
    "## Part 1: Binning and Aggregation"
   ]
  },
  {
   "cell_type": "markdown",
   "metadata": {},
   "source": [
    "Binning is a common strategy for visualizing large datasets. Binning is inherent to a few types of visualizations, such as histograms and 2D histograms (also check out their close relatives: 2D density plots and the more general form: heatmaps.\n",
    "\n",
    "While these visualization types explicitly include binning, any type of visualization used with aggregated data can be looked at in the same way. For example, lets say we wanted to look at building construction over time. This would be best viewed as a line graph, but we can still think of our results as being binned by year:"
   ]
  },
  {
   "cell_type": "code",
   "execution_count": 80,
   "metadata": {},
   "outputs": [
    {
     "name": "stdout",
     "output_type": "stream",
     "text": [
      "High five! You successfully sent some data to your account on plotly. View your plot in your browser at https://plot.ly/~czhu505/0 or inside your plot.ly account where it is named 'ny-year-built'\n"
     ]
    },
    {
     "data": {
      "text/html": [
       "<iframe id=\"igraph\" scrolling=\"no\" style=\"border:none;\" seamless=\"seamless\" src=\"https://plot.ly/~czhu505/0.embed\" height=\"525px\" width=\"100%\"></iframe>"
      ],
      "text/plain": [
       "<plotly.tools.PlotlyDisplay object>"
      ]
     },
     "execution_count": 80,
     "metadata": {},
     "output_type": "execute_result"
    }
   ],
   "source": [
    "trace = go.Scatter(\n",
    "    # I'm choosing BBL here because I know it's a unique key.\n",
    "    x = ny.groupby('YearBuilt').count()['BBL'].index,\n",
    "    y = ny.groupby('YearBuilt').count()['BBL']\n",
    ")\n",
    "\n",
    "layout = go.Layout(\n",
    "    xaxis = dict(title = 'Year Built'),\n",
    "    yaxis = dict(title = 'Number of Lots Built')\n",
    ")\n",
    "\n",
    "fig = go.Figure(data = [trace], layout = layout)\n",
    "\n",
    "py.iplot(fig, filename = 'ny-year-built')"
   ]
  },
  {
   "cell_type": "markdown",
   "metadata": {},
   "source": [
    "Something looks off... You're going to have to deal with this imperfect data to answer this first question."
   ]
  },
  {
   "cell_type": "markdown",
   "metadata": {},
   "source": [
    "### notes on pandas"
   ]
  },
  {
   "cell_type": "markdown",
   "metadata": {},
   "source": [
    "But first: some notes on pandas. Pandas dataframes are a different beast than R dataframes, here are some tips to help you get up to speed:"
   ]
  },
  {
   "cell_type": "markdown",
   "metadata": {},
   "source": [
    "Hello all, here are some pandas tips to help you guys through this homework:\n",
    "\n",
    "Indexing and Selecting: .loc and .iloc are the analogs for base R subsetting, or filter() in dplyr\n",
    "\n",
    "Group By: This is the pandas analog to group_by() and the appended function the analog to summarize(). Try out a few examples of this, and display the results in Jupyter. Take note of what's happening to the indexes, you'll notice that they'll become hierarchical. I personally find this more of a burden than a help, and this sort of hierarchical indexing leads to a fundamentally different experience compared to R dataframes. Once you perform an aggregation, try running the resulting hierarchical datafrome through a reset_index().\n",
    "\n",
    "Reset_index: I personally find the hierarchical indexes more of a burden than a help, and this sort of hierarchical indexing leads to a fundamentally different experience compared to R dataframes. reset_index() is a way of restoring a dataframe to a flatter index style. Grouping is where you'll notice it the most, but it's also useful when you filter data, and in a few other split-apply-combine workflows. With pandas indexes are more meaningful, so use this if you start getting unexpected results.\n",
    "\n",
    "Indexes are more important in Pandas than in R. If you delve deeper into the using python for data science, you'll begin to see the benefits in many places (despite the personal gripes I highlighted above.) One place these indexes come in handy is with time series data. The pandas docs have a huge section on datetime indexing. In particular, check out resample, which provides time series specific aggregation.\n",
    "\n",
    "Merging, joining, and concatenation: There's some overlap between these different types of merges, so use this as your guide. Concat is a single function that replaces cbind and rbind in R, and the results are driven by the indexes. Read through these examples to get a feel on how these are performed, but you will have to manage your indexes when you're using these functions. Merges are fairly similar to merges in R, similarly mapping to SQL joins.\n",
    "\n",
    "Apply: This is explained in the \"group by\" section linked above. These are your analogs to the plyr library in R. Take note of the lambda syntax used here, these are anonymous functions in python. Rather than predefining a custom function, you can just define it inline using lambda.\n",
    "\n",
    "Browse through the other sections for some other specifics, in particular reshaping and categorical data (pandas' answer to factors.) Pandas can take a while to get used to, but it is a pretty strong framework that makes more advanced functions easier once you get used to it. Rolling functions for example follow logically from the apply workflow (and led to the best google results ever when I first tried to find this out and googled \"pandas rolling\")\n",
    "\n",
    "Google Wes Mckinney's book \"Python for Data Analysis,\" which is a cookbook style intro to pandas. It's an O'Reilly book that should be pretty available out there."
   ]
  },
  {
   "cell_type": "markdown",
   "metadata": {},
   "source": [
    "### Question"
   ]
  },
  {
   "cell_type": "markdown",
   "metadata": {},
   "source": [
    "After a few building collapses, the City of New York is going to begin investigating older buildings for safety. The city is particularly worried about buildings that were unusually tall when they were built, since best-practices for safety hadn’t yet been determined. Create a graph that shows how many buildings of a certain number of floors were built in each year (note: you may want to use a log scale for the number of buildings). Find a strategy to bin buildings (It should be clear 20-29-story buildings, 30-39-story buildings, and 40-49-story buildings were first built in large numbers, but does it make sense to continue in this way as you get taller?)"
   ]
  },
  {
   "cell_type": "markdown",
   "metadata": {},
   "source": [
    "### Answer"
   ]
  },
  {
   "cell_type": "markdown",
   "metadata": {},
   "source": [
    "1. Observe the metadata dictionary:"
   ]
  },
  {
   "cell_type": "markdown",
   "metadata": {},
   "source": [
    "YearBuilt:\n",
    "Year Built comes from Department of Buildings Permits.\n",
    "Year Built is accurate for the decade but not necessarily for the specific year.\n",
    "Two outliers – 1910 & 1920. Structures built between 1800s and early 1900s usually have a Year Built date of either 1910 or 1920.\n"
   ]
  },
  {
   "cell_type": "markdown",
   "metadata": {},
   "source": [
    "BBL: BOROUGH, TAX BLOCK & LOT\n",
    "A concatenation of the borough code, tax block and tax lot.\n",
    "This field consists of the borough code followed by the tax block followed by the tax lot. The borough code is one numeric digit. The tax block is one to five numeric digits, preceded with leading zeros when the block is less than five digits. The tax lot is one to four digits and is preceded with leading zeros when the lot is less than four digits.\n",
    "Examples:\n",
    "Manhattan Borough Code 1, Tax Block 16, Tax Lot 100 would be stored as 1000160100.\n",
    "Brooklyn Borough Code 3, Tax Block 15828, Tax Lot 7501 would be stored as 5158287501.\n"
   ]
  },
  {
   "cell_type": "markdown",
   "metadata": {},
   "source": [
    "NumFloors:\n",
    "In the tallest building on the tax lot, the number of full and partial stories starting from the ground floor.\n",
    "This field contains one to five numeric digits with an embedded decimal after the third digit.\n",
    "NOTES: Above ground Basements are not included in the Number of Floors.\n",
    "A roof used for parking, farming, playground, etc. is not included in Number of Floors.\n",
    "If the NUMBER OF FLOORS is zero and the NUMBER OF BUILDINGS is greater than zero, then NUMBER OF FLOORS is not available for the tax lot.\n",
    "If the NUMBER OF FLOORS is zero and the NUMBER OF BUILDINGS is zero, then NUMBER OF FLOORS is not applicable for the tax lot."
   ]
  },
  {
   "cell_type": "markdown",
   "metadata": {
    "slideshow": {
     "slide_type": "fragment"
    }
   },
   "source": [
    "2. To find bin buildings and categorize dataset by every-10-story buildings:\n",
    "use .resample() function to sum up 5 years number of lots been built."
   ]
  },
  {
   "cell_type": "code",
   "execution_count": 81,
   "metadata": {},
   "outputs": [
    {
     "data": {
      "text/html": [
       "<iframe id=\"igraph\" scrolling=\"no\" style=\"border:none;\" seamless=\"seamless\" src=\"https://plot.ly/~czhu505/4.embed\" height=\"525px\" width=\"100%\"></iframe>"
      ],
      "text/plain": [
       "<plotly.tools.PlotlyDisplay object>"
      ]
     },
     "execution_count": 81,
     "metadata": {},
     "output_type": "execute_result"
    }
   ],
   "source": [
    "ny['YearBuiltDatetime'] = pd.to_datetime(ny['YearBuilt'], format = '%Y')\n",
    "ny_groupByYear = ny.groupby('YearBuiltDatetime').count()['BBL']\n",
    "\n",
    "trace = go.Scatter(\n",
    "    x = ny_groupByYear.resample('5A').sum().index,\n",
    "    y = ny_groupByYear.resample('5A').sum()\n",
    ")\n",
    "\n",
    "layout = go.Layout(\n",
    "    xaxis = dict(title = 'Year Built'),\n",
    "    yaxis = dict(title = 'Number of Lots Built')\n",
    ")\n",
    "\n",
    "fig = go.Figure(data = [trace], layout = layout)\n",
    "\n",
    "py.iplot(fig, filename = 'ny-year-built-5bin')"
   ]
  },
  {
   "cell_type": "markdown",
   "metadata": {},
   "source": []
  },
  {
   "cell_type": "code",
   "execution_count": 82,
   "metadata": {
    "scrolled": true
   },
   "outputs": [
    {
     "data": {
      "text/html": [
       "<iframe id=\"igraph\" scrolling=\"no\" style=\"border:none;\" seamless=\"seamless\" src=\"https://plot.ly/~czhu505/6.embed\" height=\"525px\" width=\"100%\"></iframe>"
      ],
      "text/plain": [
       "<plotly.tools.PlotlyDisplay object>"
      ]
     },
     "execution_count": 82,
     "metadata": {},
     "output_type": "execute_result"
    }
   ],
   "source": [
    "trace = go.Scatter(\n",
    "    x = ny_groupByYear.cumsum().index,\n",
    "    y = 100*ny_groupByYear.cumsum() / ny_groupByYear.sum()\n",
    ")\n",
    "\n",
    "layout = go.Layout(\n",
    "    xaxis = dict(title = 'Year Built', range = [datetime.datetime(1899,1,1), datetime.datetime(2017,1,1)]),\n",
    "    yaxis = dict(title = 'Cumulative Percentage Built', ticksuffix = '%')\n",
    ")\n",
    "\n",
    "fig = go.Figure(data = [trace], layout = layout)\n",
    "\n",
    "py.iplot(fig, filename = 'cumsum-ny')"
   ]
  },
  {
   "cell_type": "code",
   "execution_count": 83,
   "metadata": {},
   "outputs": [],
   "source": [
    "ny['stories'] = 10*np.floor(ny['NumFloors']/10).apply(int)\n",
    "ny['stories'] = ny['stories'].apply(lambda x: x if x <= 50 else 50)\n",
    "ny_storiesAndYear = ny.groupby(['stories', 'YearBuiltDatetime'])['BBL'].count()"
   ]
  },
  {
   "cell_type": "code",
   "execution_count": 84,
   "metadata": {},
   "outputs": [
    {
     "name": "stdout",
     "output_type": "stream",
     "text": [
      "This is the format of your plot grid:\n",
      "[ (1,1) x1,y1 ]\n",
      "[ (2,1) x1,y2 ]\n",
      "[ (3,1) x1,y3 ]\n",
      "[ (4,1) x1,y4 ]\n",
      "[ (5,1) x1,y5 ]\n",
      "[ (6,1) x1,y6 ]\n",
      "\n"
     ]
    },
    {
     "data": {
      "text/html": [
       "<iframe id=\"igraph\" scrolling=\"no\" style=\"border:none;\" seamless=\"seamless\" src=\"https://plot.ly/~czhu505/8.embed\" height=\"900px\" width=\"100%\"></iframe>"
      ],
      "text/plain": [
       "<plotly.tools.PlotlyDisplay object>"
      ]
     },
     "execution_count": 84,
     "metadata": {},
     "output_type": "execute_result"
    }
   ],
   "source": [
    "traces = []\n",
    "for group in ny_storiesAndYear.index.levels[0]:\n",
    "    traces.append(\n",
    "        go.Scatter(\n",
    "            name = str(group) + ' Stories',\n",
    "            x = ny_storiesAndYear[group].index,\n",
    "            y = 100*ny_storiesAndYear[group].cumsum() / ny_storiesAndYear[group].sum()\n",
    "        )\n",
    "    )\n",
    "\n",
    "layout = go.Layout(\n",
    "    xaxis = dict(title = 'Year Built'),\n",
    "    yaxis = dict(title = 'Cumulative Percentage Built')\n",
    ")\n",
    "\n",
    "fig = tools.make_subplots(rows=6, cols=1, shared_xaxes=True)\n",
    "\n",
    "for row,trace in enumerate(traces):\n",
    "    fig.append_trace(trace, row+1, 1)\n",
    "\n",
    "fig['layout'].update(height = 900)\n",
    "for axis in ['yaxis1', 'yaxis2', 'yaxis3', 'yaxis4', 'yaxis5', 'yaxis6']:\n",
    "    fig['layout'][axis].update(ticksuffix = '%')\n",
    "fig['layout']['xaxis1'].update(range = [datetime.datetime(1899,1,1), datetime.datetime(2017,1,1)])\n",
    "\n",
    "py.iplot(fig, filename = 'cumsum-ny-grouped')"
   ]
  },
  {
   "cell_type": "markdown",
   "metadata": {},
   "source": [
    "The result shows 1920s had a lot 0-10 story construction been built than others periods. As the time past, there are lesser land for construstion and culture of a modern city change, so that tall building become more demand. If I looked throught the cultivate percentage build, the growth of the number of floors is slowing down. It could be limitted lands affected the speed of growth. \n",
    "\n",
    "And the dataset, I have checked some error entry where the address recored a 119-story building and actually only a 3-story building. The acuracy of the data entry will be another problem leading the baise result. \n",
    "\n",
    "BK \n",
    "cell A82438  : numfloor: 119 ??  address: 100 JEFFERSON STREET \n"
   ]
  },
  {
   "cell_type": "markdown",
   "metadata": {},
   "source": [
    "## Part 2: Datashader"
   ]
  },
  {
   "cell_type": "markdown",
   "metadata": {},
   "source": [
    "Datashader is a library from Anaconda that does away with the need for binning data. It takes in all of your datapoints, and based on the canvas and range returns a pixel-by-pixel calculations to come up with the best representation of the data. In short, this completely eliminates the need for binning your data.\n",
    "\n",
    "As an example, lets continue with our question above and look at a 2D histogram of YearBuilt vs NumFloors:"
   ]
  },
  {
   "cell_type": "code",
   "execution_count": 91,
   "metadata": {},
   "outputs": [
    {
     "data": {
      "text/html": [
       "<iframe id=\"igraph\" scrolling=\"no\" style=\"border:none;\" seamless=\"seamless\" src=\"https://plot.ly/~czhu505/2.embed\" height=\"525px\" width=\"100%\"></iframe>"
      ],
      "text/plain": [
       "<plotly.tools.PlotlyDisplay object>"
      ]
     },
     "execution_count": 91,
     "metadata": {},
     "output_type": "execute_result"
    }
   ],
   "source": [
    "yearbins = 200\n",
    "floorbins = 200\n",
    "\n",
    "yearBuiltCut = pd.cut(ny['YearBuilt'], np.linspace(ny['YearBuilt'].min(), ny['YearBuilt'].max(), yearbins))\n",
    "numFloorsCut = pd.cut(ny['NumFloors'], np.logspace(1, np.log(ny['NumFloors'].max()), floorbins))\n",
    "\n",
    "xlabels = np.floor(np.linspace(ny['YearBuilt'].min(), ny['YearBuilt'].max(), yearbins))\n",
    "ylabels = np.floor(np.logspace(1, np.log(ny['NumFloors'].max()), floorbins))\n",
    "\n",
    "data = [\n",
    "    go.Heatmap(z = ny.groupby([numFloorsCut, yearBuiltCut])['BBL'].count().unstack().fillna(0).values,\n",
    "              colorscale = 'Greens', x = xlabels, y = ylabels)\n",
    "]\n",
    "\n",
    "py.iplot(data, filename = 'datashader-2d-hist')"
   ]
  },
  {
   "cell_type": "markdown",
   "metadata": {},
   "source": [
    "\n",
    "This shows us the distribution, but it's subject to some biases discussed in the Anaconda notebook Plotting Perils.\n",
    "\n",
    "Here is what the same plot would look like in datashader:"
   ]
  },
  {
   "cell_type": "code",
   "execution_count": 93,
   "metadata": {},
   "outputs": [
    {
     "name": "stderr",
     "output_type": "stream",
     "text": [
      "C:\\Users\\Zhu\\Anaconda3\\lib\\site-packages\\datashader\\transfer_functions.py:162: RuntimeWarning:\n",
      "\n",
      "invalid value encountered in log1p\n",
      "\n"
     ]
    },
    {
     "data": {
      "image/png": "[encoded data removed]",
      "text/html": [
       "<img style=\"margin: auto; border:1px solid\" src='data:image/png;base64,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'/>"
      ],
      "text/plain": [
       "<xarray.Image (NumFloors: 500, YearBuilt: 800)>\n",
       "array([[4278190080, 4278190080, 4278190080, ..., 4278190080, 4278190080,\n",
       "        4278190080],\n",
       "       [4278190080, 4278190080, 4278190080, ..., 4284966759, 4278190080,\n",
       "        4278190080],\n",
       "       [4278190080, 4278190080, 4278190080, ..., 4284966759, 4278190080,\n",
       "        4278190080],\n",
       "       ...,\n",
       "       [4278190080, 4278190080, 4278190080, ..., 4278190080, 4278190080,\n",
       "        4278190080],\n",
       "       [4278190080, 4278190080, 4278190080, ..., 4278190080, 4278190080,\n",
       "        4278190080],\n",
       "       [4278190080, 4278190080, 4278190080, ..., 4278190080, 4278190080,\n",
       "        4278190080]], dtype=uint32)\n",
       "Coordinates:\n",
       "  * NumFloors  (NumFloors) float64 0.6185 0.8555 1.093 1.329 1.567 1.804 ...\n",
       "  * YearBuilt  (YearBuilt) float64 1.851e+03 1.851e+03 1.852e+03 1.852e+03 ..."
      ]
     },
     "execution_count": 93,
     "metadata": {},
     "output_type": "execute_result"
    }
   ],
   "source": [
    "cvs = ds.Canvas(800, 500, x_range = (ny['YearBuilt'].min(), ny['YearBuilt'].max()), \n",
    "                                y_range = (ny['NumFloors'].min(), ny['NumFloors'].max()))\n",
    "agg = cvs.points(ny, 'YearBuilt', 'NumFloors')\n",
    "view = tf.shade(agg, cmap = cm(Greys9), how='log')\n",
    "export(tf.spread(view, px=2), 'yearvsnumfloors')"
   ]
  },
  {
   "cell_type": "markdown",
   "metadata": {},
   "source": [
    "\n",
    "That's technically just a scatterplot, but the points are smartly placed and colored to mimic what one gets in a heatmap. Based on the pixel size, it will either display individual points, or will color the points of denser regions.\n",
    "\n",
    "Datashader really shines when looking at geographic information. Here are the latitudes and longitudes of our dataset plotted out, giving us a map of the city colored by density of structures:"
   ]
  },
  {
   "cell_type": "code",
   "execution_count": 104,
   "metadata": {
    "scrolled": true
   },
   "outputs": [
    {
     "data": {
      "image/png": "[encoded data removed]",
      "text/html": [
       "<img style=\"margin: auto; border:1px solid\" src='data:image/png;base64,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'/>"
      ],
      "text/plain": [
       "<xarray.Image (lat: 700, lon: 700)>\n",
       "array([[4278190080, 4278190080, 4278190080, ..., 4278190080, 4278190080,\n",
       "        4278190080],\n",
       "       [4278190080, 4278190080, 4278190080, ..., 4278190080, 4278190080,\n",
       "        4278190080],\n",
       "       [4278190080, 4278190080, 4278190080, ..., 4278190080, 4278190080,\n",
       "        4278190080],\n",
       "       ...,\n",
       "       [4278190080, 4278190080, 4278190080, ..., 4278190080, 4278190080,\n",
       "        4278190080],\n",
       "       [4278190080, 4278190080, 4278190080, ..., 4278190080, 4278190080,\n",
       "        4278190080],\n",
       "       [4278190080, 4278190080, 4278190080, ..., 4278190080, 4278190080,\n",
       "        4278190080]], dtype=uint32)\n",
       "Coordinates:\n",
       "  * lat      (lat) float64 40.49 40.49 40.49 40.49 40.49 40.49 40.49 40.49 ...\n",
       "  * lon      (lon) float64 -74.29 -74.29 -74.29 -74.29 -74.29 -74.29 -74.28 ..."
      ]
     },
     "execution_count": 104,
     "metadata": {},
     "output_type": "execute_result"
    }
   ],
   "source": [
    "NewYorkCity   = (( -74.29,  -73.69), (40.49, 40.92))\n",
    "cvs = ds.Canvas(700, 700, *NewYorkCity)\n",
    "agg = cvs.points(ny, 'lon', 'lat')\n",
    "view = tf.shade(agg, cmap = cm(inferno), how='log')\n",
    "export(tf.spread(view, px=2), 'firery')"
   ]
  },
  {
   "cell_type": "code",
   "execution_count": null,
   "metadata": {},
   "outputs": [],
   "source": []
  },
  {
   "cell_type": "markdown",
   "metadata": {},
   "source": [
    "\n",
    "Interestingly, since we're looking at structures, the large buildings of Manhattan show up as less dense on the map. The densest areas measured by number of lots would be single or multi family townhomes.\n",
    "\n",
    "Unfortunately, Datashader doesn't have the best documentation. Browse through the examples from their github repo. I would focus on the visualization pipeline and the US Census Example for the question below. This talk also provides a nice background for datashader. Feel free to use my samples as templates as well when you work on this problem."
   ]
  },
  {
   "cell_type": "markdown",
   "metadata": {},
   "source": [
    "### Question"
   ]
  },
  {
   "cell_type": "markdown",
   "metadata": {},
   "source": [
    "You work for a real estate developer and are researching underbuilt areas of the city. After looking in the Pluto data dictionary, you've discovered that all tax assessments consist of two parts: The assessment of the land and assessment of the structure. You reason that there should be a correlation between these two values: more valuable land will have more valuable structures on them (more valuable in this case refers not just to a mansion vs a bungalow, but an apartment tower vs a single family home). Deviations from the norm could represent underbuilt or overbuilt areas of the city. You also recently read a really cool blog post about bivariate choropleth maps, and think the technique could be used for this problem.\n",
    "\n",
    "\n",
    "Datashader is really cool, but it's not that great at labeling your visualization. Don't worry about providing a legend, but provide a quick explanation as to which areas of the city are overbuilt, which areas are underbuilt, and which areas are built in a way that's properly correlated with their land value."
   ]
  },
  {
   "cell_type": "markdown",
   "metadata": {},
   "source": [
    "1. Observe the metadata dictionary:"
   ]
  },
  {
   "cell_type": "markdown",
   "metadata": {},
   "source": [
    "AssessLand:\n",
    "The Department of Finance calculates the assessed value by multiplying the tax lot’s estimated full market land value, determined as if vacant and unimproved, by a uniform percentage for the property’s tax class.\n"
   ]
  },
  {
   "cell_type": "markdown",
   "metadata": {},
   "source": [
    "AssessTot:\n",
    "The Department of Finance calculates the assessed value by multiplying the tax lot’s estimated full market value by a uniform percentage for the property’s tax class.\n",
    "Property value is assessed as of January 5th. If a site is not completed by April 14th the assessed building value is 0 and the Building Class reverts to Vacant.\n"
   ]
  },
  {
   "cell_type": "markdown",
   "metadata": {},
   "source": [
    "calculate the assessStruction tax uses total assess tax minus assess land tax. Here to break down the AssessLand and AssessStruct into 3 categories used on the percentile() function. "
   ]
  },
  {
   "cell_type": "code",
   "execution_count": 99,
   "metadata": {},
   "outputs": [],
   "source": [
    "ny['AssessStruct'] = ny['AssessTot'] - ny['AssessLand']\n",
    "\n",
    "al33 = np.percentile(ny['AssessLand'].values, 33)\n",
    "al66 = np.percentile(ny['AssessLand'].values, 66)\n",
    "as33 = np.percentile(ny['AssessStruct'].values, 33)\n",
    "as66 = np.percentile(ny['AssessStruct'].values, 66)\n",
    "\n",
    "ny['AssessLand3tile'] = ny['AssessLand'].apply(lambda x: 1 if x < al33 else 2 if x < al66 else 3)\n",
    "ny['AssessStruct3tile'] = ny['AssessStruct'].apply(lambda x: 1 if x < as33 else 2 if x < as66 else 3)\n",
    "\n",
    "ny['AssessAll3tile'] = ny['AssessLand3tile'].apply(str) + ny['AssessStruct3tile'].apply(str) + 'c'\n",
    "\n",
    "ny['AssessAll3tile'] = pd.Categorical(ny['AssessAll3tile'])\n",
    "    \n",
    "color_key = {\n",
    "    '11c': '#e8e8e8',\n",
    "    '12c': '#b0d5df',\n",
    "    '13c': '#64acbe',\n",
    "    '21c': '#e4acac',\n",
    "    '22c': '#ad9ea5',\n",
    "    '23c': '#627f8c',\n",
    "    '31c': '#c85a5a',\n",
    "    '32c': '#985356',\n",
    "    '33c': '#574249'\n",
    "}\n",
    "\n",
    "# greener is Assessed Land, redder is Assessed Total, Maroon is both,"
   ]
  },
  {
   "cell_type": "code",
   "execution_count": 119,
   "metadata": {},
   "outputs": [
    {
     "ename": "ValueError",
     "evalue": "zero-size array to reduction operation minimum which has no identity",
     "output_type": "error",
     "traceback": [
      "\u001b[1;31m---------------------------------------------------------------------------\u001b[0m",
      "\u001b[1;31mValueError\u001b[0m                                Traceback (most recent call last)",
      "\u001b[1;32m<ipython-input-119-0b1a75387c04>\u001b[0m in \u001b[0;36m<module>\u001b[1;34m()\u001b[0m\n\u001b[0;32m      2\u001b[0m \u001b[0mcvs\u001b[0m \u001b[1;33m=\u001b[0m \u001b[0mds\u001b[0m\u001b[1;33m.\u001b[0m\u001b[0mCanvas\u001b[0m\u001b[1;33m(\u001b[0m\u001b[1;36m700\u001b[0m\u001b[1;33m,\u001b[0m \u001b[1;36m700\u001b[0m\u001b[1;33m,\u001b[0m \u001b[1;33m*\u001b[0m\u001b[0mNewYorkCity\u001b[0m\u001b[1;33m)\u001b[0m\u001b[1;33m\u001b[0m\u001b[0m\n\u001b[0;32m      3\u001b[0m \u001b[0magg\u001b[0m \u001b[1;33m=\u001b[0m \u001b[0mcvs\u001b[0m\u001b[1;33m.\u001b[0m\u001b[0mpoints\u001b[0m\u001b[1;33m(\u001b[0m\u001b[0mny\u001b[0m\u001b[1;33m,\u001b[0m \u001b[1;34m'lon'\u001b[0m\u001b[1;33m,\u001b[0m \u001b[1;34m'lat'\u001b[0m\u001b[1;33m,\u001b[0m \u001b[0mds\u001b[0m\u001b[1;33m.\u001b[0m\u001b[0mcount_cat\u001b[0m\u001b[1;33m(\u001b[0m\u001b[1;34m'AssessAll3tile'\u001b[0m\u001b[1;33m)\u001b[0m\u001b[1;33m)\u001b[0m\u001b[1;33m\u001b[0m\u001b[0m\n\u001b[1;32m----> 4\u001b[1;33m \u001b[0mview\u001b[0m \u001b[1;33m=\u001b[0m \u001b[0mtf\u001b[0m\u001b[1;33m.\u001b[0m\u001b[0mshade\u001b[0m\u001b[1;33m(\u001b[0m\u001b[0magg\u001b[0m\u001b[1;33m,\u001b[0m \u001b[0mcolor_key\u001b[0m \u001b[1;33m=\u001b[0m \u001b[0mcolor_key\u001b[0m\u001b[1;33m)\u001b[0m\u001b[1;33m\u001b[0m\u001b[0m\n\u001b[0m\u001b[0;32m      5\u001b[0m \u001b[0mexport\u001b[0m\u001b[1;33m(\u001b[0m\u001b[0mtf\u001b[0m\u001b[1;33m.\u001b[0m\u001b[0mspread\u001b[0m\u001b[1;33m(\u001b[0m\u001b[0mview\u001b[0m\u001b[1;33m,\u001b[0m \u001b[0mpx\u001b[0m\u001b[1;33m=\u001b[0m\u001b[1;36m1\u001b[0m\u001b[1;33m)\u001b[0m\u001b[1;33m,\u001b[0m \u001b[1;34m'bivariate'\u001b[0m\u001b[1;33m)\u001b[0m\u001b[1;33m\u001b[0m\u001b[0m\n",
      "\u001b[1;32m~\\Anaconda3\\lib\\site-packages\\datashader\\transfer_functions.py\u001b[0m in \u001b[0;36mshade\u001b[1;34m(agg, cmap, color_key, how, alpha, min_alpha, span, name)\u001b[0m\n\u001b[0;32m    347\u001b[0m         \u001b[1;32mreturn\u001b[0m \u001b[0m_interpolate\u001b[0m\u001b[1;33m(\u001b[0m\u001b[0magg\u001b[0m\u001b[1;33m,\u001b[0m \u001b[0mcmap\u001b[0m\u001b[1;33m,\u001b[0m \u001b[0mhow\u001b[0m\u001b[1;33m,\u001b[0m \u001b[0malpha\u001b[0m\u001b[1;33m,\u001b[0m \u001b[0mspan\u001b[0m\u001b[1;33m,\u001b[0m \u001b[0mmin_alpha\u001b[0m\u001b[1;33m,\u001b[0m \u001b[0mname\u001b[0m\u001b[1;33m)\u001b[0m\u001b[1;33m\u001b[0m\u001b[0m\n\u001b[0;32m    348\u001b[0m     \u001b[1;32melif\u001b[0m \u001b[0magg\u001b[0m\u001b[1;33m.\u001b[0m\u001b[0mndim\u001b[0m \u001b[1;33m==\u001b[0m \u001b[1;36m3\u001b[0m\u001b[1;33m:\u001b[0m\u001b[1;33m\u001b[0m\u001b[0m\n\u001b[1;32m--> 349\u001b[1;33m         \u001b[1;32mreturn\u001b[0m \u001b[0m_colorize\u001b[0m\u001b[1;33m(\u001b[0m\u001b[0magg\u001b[0m\u001b[1;33m,\u001b[0m \u001b[0mcolor_key\u001b[0m\u001b[1;33m,\u001b[0m \u001b[0mhow\u001b[0m\u001b[1;33m,\u001b[0m \u001b[0mmin_alpha\u001b[0m\u001b[1;33m,\u001b[0m \u001b[0mname\u001b[0m\u001b[1;33m)\u001b[0m\u001b[1;33m\u001b[0m\u001b[0m\n\u001b[0m\u001b[0;32m    350\u001b[0m     \u001b[1;32melse\u001b[0m\u001b[1;33m:\u001b[0m\u001b[1;33m\u001b[0m\u001b[0m\n\u001b[0;32m    351\u001b[0m         \u001b[1;32mraise\u001b[0m \u001b[0mValueError\u001b[0m\u001b[1;33m(\u001b[0m\u001b[1;34m\"agg must use 2D or 3D coordinates\"\u001b[0m\u001b[1;33m)\u001b[0m\u001b[1;33m\u001b[0m\u001b[0m\n",
      "\u001b[1;32m~\\Anaconda3\\lib\\site-packages\\datashader\\transfer_functions.py\u001b[0m in \u001b[0;36m_colorize\u001b[1;34m(agg, color_key, how, min_alpha, name)\u001b[0m\n\u001b[0;32m    267\u001b[0m     \u001b[1;32mif\u001b[0m \u001b[0moffset\u001b[0m \u001b[1;33m==\u001b[0m \u001b[1;36m0\u001b[0m\u001b[1;33m:\u001b[0m\u001b[1;33m\u001b[0m\u001b[0m\n\u001b[0;32m    268\u001b[0m         \u001b[0mmask\u001b[0m \u001b[1;33m=\u001b[0m \u001b[0mmask\u001b[0m \u001b[1;33m|\u001b[0m \u001b[1;33m(\u001b[0m\u001b[0mtotal\u001b[0m \u001b[1;33m<=\u001b[0m \u001b[1;36m0\u001b[0m\u001b[1;33m)\u001b[0m\u001b[1;33m\u001b[0m\u001b[0m\n\u001b[1;32m--> 269\u001b[1;33m         \u001b[0moffset\u001b[0m \u001b[1;33m=\u001b[0m \u001b[0mtotal\u001b[0m\u001b[1;33m[\u001b[0m\u001b[0mtotal\u001b[0m \u001b[1;33m>\u001b[0m \u001b[1;36m0\u001b[0m\u001b[1;33m]\u001b[0m\u001b[1;33m.\u001b[0m\u001b[0mmin\u001b[0m\u001b[1;33m(\u001b[0m\u001b[1;33m)\u001b[0m\u001b[1;33m\u001b[0m\u001b[0m\n\u001b[0m\u001b[0;32m    270\u001b[0m     \u001b[0ma\u001b[0m \u001b[1;33m=\u001b[0m \u001b[0m_normalize_interpolate_how\u001b[0m\u001b[1;33m(\u001b[0m\u001b[0mhow\u001b[0m\u001b[1;33m)\u001b[0m\u001b[1;33m(\u001b[0m\u001b[0mtotal\u001b[0m \u001b[1;33m-\u001b[0m \u001b[0moffset\u001b[0m\u001b[1;33m,\u001b[0m \u001b[0mmask\u001b[0m\u001b[1;33m)\u001b[0m\u001b[1;33m\u001b[0m\u001b[0m\n\u001b[0;32m    271\u001b[0m     a = np.interp(a, [np.nanmin(a), np.nanmax(a)],\n",
      "\u001b[1;32m~\\Anaconda3\\lib\\site-packages\\numpy\\core\\_methods.py\u001b[0m in \u001b[0;36m_amin\u001b[1;34m(a, axis, out, keepdims, initial)\u001b[0m\n\u001b[0;32m     30\u001b[0m def _amin(a, axis=None, out=None, keepdims=False,\n\u001b[0;32m     31\u001b[0m           initial=_NoValue):\n\u001b[1;32m---> 32\u001b[1;33m     \u001b[1;32mreturn\u001b[0m \u001b[0mumr_minimum\u001b[0m\u001b[1;33m(\u001b[0m\u001b[0ma\u001b[0m\u001b[1;33m,\u001b[0m \u001b[0maxis\u001b[0m\u001b[1;33m,\u001b[0m \u001b[1;32mNone\u001b[0m\u001b[1;33m,\u001b[0m \u001b[0mout\u001b[0m\u001b[1;33m,\u001b[0m \u001b[0mkeepdims\u001b[0m\u001b[1;33m,\u001b[0m \u001b[0minitial\u001b[0m\u001b[1;33m)\u001b[0m\u001b[1;33m\u001b[0m\u001b[0m\n\u001b[0m\u001b[0;32m     33\u001b[0m \u001b[1;33m\u001b[0m\u001b[0m\n\u001b[0;32m     34\u001b[0m def _sum(a, axis=None, dtype=None, out=None, keepdims=False,\n",
      "\u001b[1;31mValueError\u001b[0m: zero-size array to reduction operation minimum which has no identity"
     ]
    }
   ],
   "source": [
    "NewYorkCity = (( -74.29,  -73.69), (40.49, 40.92))\n",
    "cvs = ds.Canvas(700, 700, *NewYorkCity)\n",
    "agg = cvs.points(ny, 'lon', 'lat', ds.count_cat('AssessAll3tile'))\n",
    "view = tf.shade(agg, color_key = color_key)\n",
    "export(tf.spread(view, px=1), 'bivariate')"
   ]
  },
  {
   "cell_type": "code",
   "execution_count": null,
   "metadata": {},
   "outputs": [],
   "source": []
  }
 ],
 "metadata": {
  "kernelspec": {
   "display_name": "Python 3",
   "language": "python",
   "name": "python3"
  },
  "language_info": {
   "codemirror_mode": {
    "name": "ipython",
    "version": 3
   },
   "file_extension": ".py",
   "mimetype": "text/x-python",
   "name": "python",
   "nbconvert_exporter": "python",
   "pygments_lexer": "ipython3",
   "version": "3.6.6"
  }
 },
 "nbformat": 4,
 "nbformat_minor": 2
}
